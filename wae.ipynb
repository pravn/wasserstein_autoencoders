{
 "cells": [
  {
   "cell_type": "code",
   "execution_count": 1,
   "metadata": {},
   "outputs": [],
   "source": [
    "import numpy\n",
    "import torch\n",
    "import torch.utils.data\n",
    "import torchvision.transforms as transforms\n",
    "import torchvision.datasets as dset"
   ]
  },
  {
   "cell_type": "code",
   "execution_count": 2,
   "metadata": {},
   "outputs": [],
   "source": [
    "%load_ext autoreload\n",
    "%autoreload 2\n"
   ]
  },
  {
   "cell_type": "code",
   "execution_count": null,
   "metadata": {},
   "outputs": [],
   "source": []
  },
  {
   "cell_type": "code",
   "execution_count": 3,
   "metadata": {},
   "outputs": [],
   "source": [
    "class Params:\n",
    "    def __init__(self):\n",
    "        self.batchSize = 64\n",
    "        self.imageSize = 64\n",
    "        self.LAMBDA = 0.1\n",
    "        self.lr= 0.0002\n",
    "        self.nc = 3\n",
    "        self.nz = 64\n",
    "        self.ngf = 64\n",
    "        self.ndf = 512\n",
    "        self.dataroot = '/home/pytorch/projects/lsun'\n",
    "        self.workers = 1\n",
    "        self.restart = ''\n",
    "        self.cuda = True\n",
    "        self.beta1 = 0.5\n",
    "opt = Params()"
   ]
  },
  {
   "cell_type": "code",
   "execution_count": 4,
   "metadata": {},
   "outputs": [],
   "source": [
    "\n",
    "dataset = dset.ImageFolder(root=opt.dataroot,\n",
    "                               transform=transforms.Compose([\n",
    "                                   transforms.Resize(opt.imageSize),\n",
    "                                   transforms.CenterCrop(opt.imageSize),\n",
    "                                   transforms.ToTensor(),\n",
    "                                   transforms.Normalize((0.5, 0.5, 0.5), (0.5, 0.5, 0.5)),\n",
    "                               ]))"
   ]
  },
  {
   "cell_type": "code",
   "execution_count": 5,
   "metadata": {},
   "outputs": [],
   "source": [
    "dataloader = torch.utils.data.DataLoader(dataset, batch_size=opt.batchSize,\n",
    "                                         shuffle=True, num_workers=int(opt.workers))"
   ]
  },
  {
   "cell_type": "code",
   "execution_count": 6,
   "metadata": {},
   "outputs": [],
   "source": [
    "%aimport model\n",
    "from model import WAE\n",
    "from model import Discriminator"
   ]
  },
  {
   "cell_type": "code",
   "execution_count": 7,
   "metadata": {},
   "outputs": [
    {
     "data": {
      "text/plain": [
       "3"
      ]
     },
     "execution_count": 7,
     "metadata": {},
     "output_type": "execute_result"
    }
   ],
   "source": [
    "opt.nc"
   ]
  },
  {
   "cell_type": "code",
   "execution_count": 8,
   "metadata": {},
   "outputs": [],
   "source": [
    "net_WAE = WAE(opt.nc, opt.nz, opt.ngf).cuda()\n",
    "netD = Discriminator(opt.nz, opt.ndf).cuda()"
   ]
  },
  {
   "cell_type": "code",
   "execution_count": 9,
   "metadata": {},
   "outputs": [
    {
     "data": {
      "text/plain": [
       "'/home/pytorch/projects/patchgan'"
      ]
     },
     "execution_count": 9,
     "metadata": {},
     "output_type": "execute_result"
    }
   ],
   "source": [
    "pwd"
   ]
  },
  {
   "cell_type": "code",
   "execution_count": 10,
   "metadata": {},
   "outputs": [],
   "source": [
    "%aimport train_wae\n",
    "from train_wae import run_trainer"
   ]
  },
  {
   "cell_type": "code",
   "execution_count": null,
   "metadata": {
    "scrolled": true
   },
   "outputs": [
    {
     "name": "stderr",
     "output_type": "stream",
     "text": [
      "/home/pytorch/anaconda3/envs/pytorch37/lib/python3.7/site-packages/torch/nn/functional.py:995: UserWarning: nn.functional.tanh is deprecated. Use torch.tanh instead.\n",
      "  warnings.warn(\"nn.functional.tanh is deprecated. Use torch.tanh instead.\")\n",
      "/home/pytorch/anaconda3/envs/pytorch37/lib/python3.7/site-packages/torch/nn/functional.py:1594: UserWarning: Using a target size (torch.Size([64])) that is different to the input size (torch.Size([64, 1])) is deprecated. Please ensure they have the same size.\n",
      "  \"Please ensure they have the same size.\".format(target.size(), input.size()))\n"
     ]
    },
    {
     "name": "stdout",
     "output_type": "stream",
     "text": [
      "saving images for batch 0\n",
      "0 [0/47392] Loss_D (real/fake) [0.7011/0.6888] Loss WAE (recon/adv) [0.2591/-0.0696]\n",
      "saving images for batch 100\n",
      "0 [100/47392] Loss_D (real/fake) [0.0000/0.0012] Loss WAE (recon/adv) [0.1477/-1.0840]\n",
      "saving images for batch 200\n",
      "0 [200/47392] Loss_D (real/fake) [0.0000/0.0002] Loss WAE (recon/adv) [0.1298/-1.2781]\n",
      "saving images for batch 300\n",
      "0 [300/47392] Loss_D (real/fake) [0.0000/0.0000] Loss WAE (recon/adv) [0.1255/-1.4121]\n",
      "saving images for batch 400\n",
      "0 [400/47392] Loss_D (real/fake) [0.0000/0.0000] Loss WAE (recon/adv) [0.1294/-1.4353]\n",
      "saving images for batch 500\n",
      "0 [500/47392] Loss_D (real/fake) [0.0000/0.0000] Loss WAE (recon/adv) [0.1165/-1.5178]\n",
      "saving images for batch 600\n",
      "0 [600/47392] Loss_D (real/fake) [0.0000/0.0000] Loss WAE (recon/adv) [0.1234/-1.5491]\n",
      "saving images for batch 700\n",
      "0 [700/47392] Loss_D (real/fake) [0.0000/0.0000] Loss WAE (recon/adv) [0.1187/-1.6668]\n",
      "saving images for batch 800\n",
      "0 [800/47392] Loss_D (real/fake) [0.0000/0.0000] Loss WAE (recon/adv) [0.1197/-1.7394]\n",
      "saving images for batch 900\n",
      "0 [900/47392] Loss_D (real/fake) [0.0000/0.0000] Loss WAE (recon/adv) [0.1186/-1.7952]\n",
      "saving images for batch 1000\n",
      "0 [1000/47392] Loss_D (real/fake) [0.0000/0.0000] Loss WAE (recon/adv) [0.1166/-1.7832]\n",
      "saving images for batch 1100\n",
      "0 [1100/47392] Loss_D (real/fake) [0.0000/0.0000] Loss WAE (recon/adv) [0.1272/-1.9043]\n",
      "saving images for batch 1200\n",
      "0 [1200/47392] Loss_D (real/fake) [0.0000/0.0000] Loss WAE (recon/adv) [0.1123/-2.0762]\n",
      "saving images for batch 1300\n",
      "0 [1300/47392] Loss_D (real/fake) [0.0000/0.0000] Loss WAE (recon/adv) [0.0978/-2.1221]\n",
      "saving images for batch 1400\n",
      "0 [1400/47392] Loss_D (real/fake) [0.0000/0.0000] Loss WAE (recon/adv) [0.1073/-2.1801]\n",
      "saving images for batch 1500\n",
      "0 [1500/47392] Loss_D (real/fake) [0.0000/0.0000] Loss WAE (recon/adv) [0.1067/-2.1982]\n",
      "saving images for batch 1600\n",
      "0 [1600/47392] Loss_D (real/fake) [0.0000/0.0000] Loss WAE (recon/adv) [0.1116/-2.2693]\n",
      "saving images for batch 1700\n",
      "0 [1700/47392] Loss_D (real/fake) [0.0770/0.0000] Loss WAE (recon/adv) [0.1051/-0.0000]\n",
      "saving images for batch 1800\n",
      "0 [1800/47392] Loss_D (real/fake) [0.0000/0.0000] Loss WAE (recon/adv) [0.1023/-1.7046]\n",
      "saving images for batch 1900\n",
      "0 [1900/47392] Loss_D (real/fake) [0.0000/0.0000] Loss WAE (recon/adv) [0.1032/-1.9245]\n",
      "saving images for batch 2000\n",
      "0 [2000/47392] Loss_D (real/fake) [0.0000/0.0000] Loss WAE (recon/adv) [0.1122/-2.0417]\n",
      "saving images for batch 2100\n",
      "0 [2100/47392] Loss_D (real/fake) [0.0000/0.0000] Loss WAE (recon/adv) [0.1046/-2.0993]\n",
      "saving images for batch 2200\n",
      "0 [2200/47392] Loss_D (real/fake) [0.0000/0.0000] Loss WAE (recon/adv) [0.1019/-2.1822]\n",
      "saving images for batch 2300\n",
      "0 [2300/47392] Loss_D (real/fake) [0.0000/0.0000] Loss WAE (recon/adv) [0.1099/-2.2165]\n",
      "saving images for batch 2400\n",
      "0 [2400/47392] Loss_D (real/fake) [0.0000/0.0000] Loss WAE (recon/adv) [0.1006/-2.2916]\n",
      "saving images for batch 2500\n",
      "0 [2500/47392] Loss_D (real/fake) [0.0000/0.0000] Loss WAE (recon/adv) [0.1032/-2.4707]\n",
      "saving images for batch 2600\n",
      "0 [2600/47392] Loss_D (real/fake) [0.0000/0.0000] Loss WAE (recon/adv) [0.1012/-2.5129]\n",
      "saving images for batch 2700\n",
      "0 [2700/47392] Loss_D (real/fake) [0.0000/0.0000] Loss WAE (recon/adv) [0.1048/-2.5558]\n",
      "saving images for batch 2800\n",
      "0 [2800/47392] Loss_D (real/fake) [0.0000/0.0000] Loss WAE (recon/adv) [0.0989/-2.6013]\n",
      "saving images for batch 2900\n",
      "0 [2900/47392] Loss_D (real/fake) [0.0000/0.0000] Loss WAE (recon/adv) [0.0958/-2.6326]\n",
      "saving images for batch 3000\n",
      "0 [3000/47392] Loss_D (real/fake) [0.0000/0.0000] Loss WAE (recon/adv) [0.1030/-1.5290]\n",
      "saving images for batch 3100\n",
      "0 [3100/47392] Loss_D (real/fake) [0.0000/0.0000] Loss WAE (recon/adv) [0.1103/-1.8401]\n",
      "saving images for batch 3200\n",
      "0 [3200/47392] Loss_D (real/fake) [0.0000/0.0000] Loss WAE (recon/adv) [0.0952/-1.9681]\n",
      "saving images for batch 3300\n",
      "0 [3300/47392] Loss_D (real/fake) [0.0000/0.0000] Loss WAE (recon/adv) [0.0978/-2.0718]\n",
      "saving images for batch 3400\n",
      "0 [3400/47392] Loss_D (real/fake) [0.0000/0.0000] Loss WAE (recon/adv) [0.0949/-2.1496]\n",
      "saving images for batch 3500\n",
      "0 [3500/47392] Loss_D (real/fake) [0.0000/0.0000] Loss WAE (recon/adv) [0.1118/-2.1941]\n",
      "saving images for batch 3600\n",
      "0 [3600/47392] Loss_D (real/fake) [0.0000/0.0000] Loss WAE (recon/adv) [0.0956/-2.2644]\n",
      "saving images for batch 3700\n",
      "0 [3700/47392] Loss_D (real/fake) [0.0000/0.0000] Loss WAE (recon/adv) [0.1020/-2.3057]\n",
      "saving images for batch 3800\n",
      "0 [3800/47392] Loss_D (real/fake) [0.0000/0.0000] Loss WAE (recon/adv) [0.0905/-2.3255]\n",
      "saving images for batch 3900\n",
      "0 [3900/47392] Loss_D (real/fake) [0.0000/0.0000] Loss WAE (recon/adv) [0.0870/-2.3945]\n",
      "saving images for batch 4000\n",
      "0 [4000/47392] Loss_D (real/fake) [0.0000/0.0000] Loss WAE (recon/adv) [0.0975/-2.4126]\n",
      "saving images for batch 4100\n",
      "0 [4100/47392] Loss_D (real/fake) [0.0000/0.0000] Loss WAE (recon/adv) [0.0899/-2.4248]\n",
      "saving images for batch 4200\n",
      "0 [4200/47392] Loss_D (real/fake) [0.0000/0.0000] Loss WAE (recon/adv) [0.0911/-2.4927]\n",
      "saving images for batch 4300\n",
      "0 [4300/47392] Loss_D (real/fake) [0.0000/0.0000] Loss WAE (recon/adv) [0.0979/-2.5098]\n",
      "saving images for batch 4400\n",
      "0 [4400/47392] Loss_D (real/fake) [0.0000/0.0000] Loss WAE (recon/adv) [0.0910/-2.5653]\n",
      "saving images for batch 4500\n",
      "0 [4500/47392] Loss_D (real/fake) [0.0000/0.0000] Loss WAE (recon/adv) [0.0970/-2.5623]\n",
      "saving images for batch 4600\n",
      "0 [4600/47392] Loss_D (real/fake) [0.0000/0.0000] Loss WAE (recon/adv) [0.0814/-2.5834]\n",
      "saving images for batch 4700\n",
      "0 [4700/47392] Loss_D (real/fake) [0.0000/0.0000] Loss WAE (recon/adv) [0.0891/-2.6369]\n",
      "saving images for batch 4800\n",
      "0 [4800/47392] Loss_D (real/fake) [0.0000/0.0000] Loss WAE (recon/adv) [0.0900/-2.6698]\n",
      "saving images for batch 4900\n",
      "0 [4900/47392] Loss_D (real/fake) [0.0000/0.0000] Loss WAE (recon/adv) [0.0857/-2.6968]\n",
      "saving images for batch 5000\n",
      "0 [5000/47392] Loss_D (real/fake) [0.0000/0.0000] Loss WAE (recon/adv) [0.0945/-2.6946]\n",
      "saving images for batch 5100\n",
      "0 [5100/47392] Loss_D (real/fake) [0.0000/0.0000] Loss WAE (recon/adv) [0.0856/-2.6901]\n",
      "saving images for batch 5200\n",
      "0 [5200/47392] Loss_D (real/fake) [0.0000/0.0000] Loss WAE (recon/adv) [0.0892/-2.7503]\n",
      "saving images for batch 5300\n",
      "0 [5300/47392] Loss_D (real/fake) [0.0000/0.0000] Loss WAE (recon/adv) [0.0782/-2.7532]\n",
      "saving images for batch 5400\n",
      "0 [5400/47392] Loss_D (real/fake) [0.0000/0.0000] Loss WAE (recon/adv) [0.0776/-2.7861]\n",
      "saving images for batch 5500\n",
      "0 [5500/47392] Loss_D (real/fake) [0.0000/0.0000] Loss WAE (recon/adv) [0.0849/-2.8431]\n",
      "saving images for batch 5600\n",
      "0 [5600/47392] Loss_D (real/fake) [0.0000/0.0000] Loss WAE (recon/adv) [0.0856/-2.8558]\n",
      "saving images for batch 5700\n",
      "0 [5700/47392] Loss_D (real/fake) [0.0000/0.0000] Loss WAE (recon/adv) [0.0934/-2.8455]\n",
      "saving images for batch 5800\n",
      "0 [5800/47392] Loss_D (real/fake) [0.0000/0.0000] Loss WAE (recon/adv) [0.0851/-2.8643]\n",
      "saving images for batch 5900\n",
      "0 [5900/47392] Loss_D (real/fake) [0.0000/0.0000] Loss WAE (recon/adv) [0.0814/-2.9042]\n",
      "saving images for batch 6000\n",
      "0 [6000/47392] Loss_D (real/fake) [0.0000/0.0000] Loss WAE (recon/adv) [0.0775/-2.9030]\n",
      "saving images for batch 6100\n",
      "0 [6100/47392] Loss_D (real/fake) [0.0000/0.0000] Loss WAE (recon/adv) [0.0821/-2.8834]\n",
      "saving images for batch 6200\n",
      "0 [6200/47392] Loss_D (real/fake) [0.0000/0.0000] Loss WAE (recon/adv) [0.0821/-2.9014]\n",
      "saving images for batch 6300\n",
      "0 [6300/47392] Loss_D (real/fake) [0.0000/0.0000] Loss WAE (recon/adv) [0.0769/-2.8964]\n"
     ]
    }
   ],
   "source": [
    "run_trainer(dataloader, net_WAE, netD, opt)"
   ]
  },
  {
   "cell_type": "code",
   "execution_count": null,
   "metadata": {},
   "outputs": [],
   "source": [
    "torch.save(vae_model, 'vae_model.pt')"
   ]
  },
  {
   "cell_type": "code",
   "execution_count": null,
   "metadata": {},
   "outputs": [],
   "source": []
  }
 ],
 "metadata": {
  "kernelspec": {
   "display_name": "Python 3",
   "language": "python",
   "name": "python3"
  },
  "language_info": {
   "codemirror_mode": {
    "name": "ipython",
    "version": 3
   },
   "file_extension": ".py",
   "mimetype": "text/x-python",
   "name": "python",
   "nbconvert_exporter": "python",
   "pygments_lexer": "ipython3",
   "version": "3.7.0"
  }
 },
 "nbformat": 4,
 "nbformat_minor": 2
}
